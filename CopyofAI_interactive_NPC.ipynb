# AI NPC chat
from transformers import pipeline

chatbot = pipeline('text-generation', model='gpt2')
print("Talk to your AI NPC! Type 'exit' to quit.")

while True:
    user_input = input("You: ")
    if user_input.lower() == 'exit':
        break
    response = chatbot(user_input, max_length=60, num_return_sequences=1)
    print("AI NPC:", response[0]['generated_text'])# AI NPC chat
